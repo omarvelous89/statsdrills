{
 "cells": [
  {
   "cell_type": "code",
   "execution_count": 7,
   "metadata": {},
   "outputs": [
    {
     "name": "stdout",
     "output_type": "stream",
     "text": [
      "8.857142857142858\n",
      "10.0\n",
      "<bound method Series.var of 0    14\n",
      "1    12\n",
      "2    11\n",
      "3    10\n",
      "4     1\n",
      "5     8\n",
      "6     6\n",
      "Name: Brady Bunch, dtype: int64>\n",
      "4.3369947901195145\n",
      "1.6392299502912862\n"
     ]
    }
   ],
   "source": [
    "import pandas as pd\n",
    "import numpy as np\n",
    "import statistics as stats\n",
    "df = pd.DataFrame()\n",
    "df['Brady Bunch'] = [14, 12, 11, 10, 8, 8, 6]\n",
    "\n",
    "print(np.mean(df['Brady Bunch']))\n",
    "print(np.median(df['Brady Bunch']))\n",
    "#print(stats.mode(df['Brady Bunch']))\n",
    "print(df['Brady Bunch'].var)\n",
    "print(np.std(df['Brady Bunch'], ddof=1))\n",
    "print(np.std(df['Brady Bunch'] ,ddof=1) / np.sqrt(len(df['Brady Bunch'])))"
   ]
  },
  {
   "cell_type": "code",
   "execution_count": null,
   "metadata": {},
   "outputs": [],
   "source": []
  }
 ],
 "metadata": {
  "kernelspec": {
   "display_name": "Python 3",
   "language": "python",
   "name": "python3"
  },
  "language_info": {
   "codemirror_mode": {
    "name": "ipython",
    "version": 3
   },
   "file_extension": ".py",
   "mimetype": "text/x-python",
   "name": "python",
   "nbconvert_exporter": "python",
   "pygments_lexer": "ipython3",
   "version": "3.7.0"
  }
 },
 "nbformat": 4,
 "nbformat_minor": 2
}
